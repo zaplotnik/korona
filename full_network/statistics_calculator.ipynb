{
 "cells": [
  {
   "cell_type": "code",
   "execution_count": 2,
   "metadata": {
    "collapsed": true,
    "pycharm": {
     "name": "#%%\n",
     "is_executing": false
    }
   },
   "outputs": [],
   "source": [
    "'''\n",
    " Distributions by ages and genders:\n",
    "    - Incubation period                         (incubation)\n",
    "    - Infectious period                         (infectious)\n",
    "    - Home to recovery                          (home_to_rec)\n",
    "    + Illness onset to hospitalisation          (ill_to_hosp)\n",
    "    + Hospitalisation to critical               (hosp_to_cri)\n",
    "    + Hospitalisation to death                  (hosp_to_dea)\n",
    "    + Hospitalisation to recovery -severe       (hosp_to_r_s)\n",
    "    + Hospitalisation to recovery -critical     (hosp_to_r_c)\n",
    "'''\n",
    "\n",
    "from scipy.stats import *\n",
    "from scipy.optimize import minimize\n",
    "\n",
    "x0 = [0.5,2.,1]\n",
    "\n",
    "def generate_lms_function(distribution, mean=None, median=None, std=None,\n",
    "                          p2h=None, p5=None, p95=None, p97h=None, p99=None):\n",
    "    \n",
    "    def function(x):\n",
    "        funcs = []\n",
    "        if mean is not None:\n",
    "            funcs.append(lambda *x: (distribution.mean(*x) - mean)**2)\n",
    "        if median is not None:\n",
    "            funcs.append(lambda *x: (distribution.median(*x) - median)**2)\n",
    "        if std is not None:\n",
    "            funcs.append(lambda *x: (distribution.std(*x) - std)**2)\n",
    "        if p2h is not None:\n",
    "            funcs.append(lambda *x: (distribution.cdf(p2h,*x) - 0.025)**2)\n",
    "        if p5 is not None:\n",
    "            funcs.append(lambda *x: (distribution.cdf(p5,*x) - 0.05)**2)\n",
    "        if p95 is not None:\n",
    "            funcs.append(lambda *x: (distribution.cdf(p95,*x) - 0.95)**2)\n",
    "        if p97h is not None:\n",
    "            funcs.append(lambda *x: (distribution.cdf(p97h,*x) - 0.975)**2)\n",
    "        if p99 is not None:\n",
    "            funcs.append(lambda *x: (distribution.cdf(p99,*x) - 0.99)**2)\n",
    "        return sum(f(*x) for f in funcs)\n",
    "    \n",
    "    return function"
   ]
  },
  {
   "cell_type": "code",
   "execution_count": 2,
   "outputs": [
    {
     "name": "stdout",
     "text": [
      "Age group: 0-16\n",
      "(None, None, array([0.32935674, 5.13604047, 8.39607137]), None, None, None, None, None)\n"
     ],
     "output_type": "stream"
    }
   ],
   "source": [
    "# data: https://www.thelancet.com/action/showPdf?pii=S1473-3099%2820%2930198-5\n",
    "#       hospitalised but moderate symptoms\n",
    "#       no severe/critical/death cases reported\n",
    "print('Age group: 0-16')\n",
    "incubation  = None\n",
    "infectious  = None\n",
    "home_to_rec = minimize(generate_lms_function(lognorm, mean=14., std=3., p5=10., p95=20.),x0).x\n",
    "ill_to_hosp = None\n",
    "hosp_to_cri = None\n",
    "hosp_to_dea = None\n",
    "hosp_to_r_s = None\n",
    "hosp_to_r_c = None\n",
    "print(incubation,infectious,home_to_rec,ill_to_hosp,hosp_to_cri,hosp_to_dea,hosp_to_r_s,hosp_to_r_c)"
   ],
   "metadata": {
    "collapsed": false,
    "pycharm": {
     "name": "#%%\n",
     "is_executing": false
    }
   }
  },
  {
   "cell_type": "code",
   "execution_count": 67,
   "outputs": [
    {
     "name": "stdout",
     "text": [
      "deceased\n",
      "[-0.00607273 -0.37988349]\n",
      "[-0.00542033 -2.66480057]\n",
      "[ 0.01856955 -5.49975672]\n",
      "[  409.41038207 -4351.4724888 ]\n",
      "[0.16171439 0.04365972]\n",
      "[  5.83023483 -66.28315334]\n",
      "[ -129.31374767 -1849.90160589]\n",
      "[4.28000624 0.93405922]\n",
      "[7.80032793 2.13982958]\n",
      "severe\n",
      "[1.12812698e-06 2.00036799e+00]\n",
      "[ 0.0303215  -3.65811359]\n",
      "[ -167.22500757 -1684.3821285 ]\n",
      "[3.42999999 0.21143857]\n",
      "[4.25000162 0.87760372]\n",
      "[8.1600038  1.68370209]\n",
      "[11.79999819  2.44263192]\n",
      "[16.59999901  3.43586235]\n",
      "[18.40000124  3.77561592]\n"
     ],
     "output_type": "stream"
    },
    {
     "name": "stderr",
     "text": [
      "/home/thinkstation-ubuntu/.local/lib/python2.7/site-packages/matplotlib/backends/backend_gtk3.py:215: Warning: Source ID 23336 was not found when attempting to remove it\n",
      "  GLib.source_remove(self._idle_event_id)\n"
     ],
     "output_type": "stream"
    }
   ],
   "source": [
    "# data: https://www.thelancet.com/pdfs/journals/laninf/PIIS1473-3099(20)30243-7.pdf\n",
    "#       mean, p2, p98\n",
    "\n",
    "import numpy as np\n",
    "import matplotlib.pyplot as plt\n",
    "\n",
    "data_deceased = np.array([(0.00161,0.000185,0.0249),\n",
    "                          (0.00695,0.00149,0.0502),\n",
    "                          (0.0309,0.0138,0.0923),\n",
    "                          (0.0844,0.0408,0.185),\n",
    "                          (0.161,0.0764,0.323),\n",
    "                          (0.595,0.344,1.28),\n",
    "                          (1.93,1.11,3.89),\n",
    "                          (4.28,2.45,8.44),\n",
    "                          (7.80,3.80,13.3),])\n",
    "data_severe = np.array([(0.00,0.00,0.00),\n",
    "                       (0.0408,0.0243,0.0832),\n",
    "                       (1.04,0.622,2.13),\n",
    "                       (3.43,2.04,7.00),\n",
    "                       (4.25,2.53,8.68),\n",
    "                       (8.16,4.86,16.7),\n",
    "                       (11.8,7.01,24.0),\n",
    "                       (16.6,9.87,33.8),\n",
    "                       (18.4,11.0,37.6)])*1\n",
    "x = np.linspace(-1,20,1000)\n",
    "plt.figure()\n",
    "# plt.plot(x, lognorm.pdf(x, 1,0,1))\n",
    "print 'deceased'\n",
    "x0=[0.5,0.2,0.1]\n",
    "x0=[0.1,2]\n",
    "for mean, p2h, p97h in data_deceased:\n",
    "    res = minimize(generate_lms_function(norm, mean=mean, p2h=p2h, p97h=p97h),x0).x\n",
    "    print res\n",
    "    # print norm.pdf(x, *res)\n",
    "print 'severe'\n",
    "for mean, p2h, p97h in data_severe:\n",
    "    res = minimize(generate_lms_function(norm, mean=mean, p2h=p2h, p97h=p97h),x0).x\n",
    "    print res\n",
    "    plt.plot(x, norm.pdf(x, *res), label=mean)\n",
    "plt.legend()\n",
    "plt.show()\n",
    "\n",
    "# # result (distribution)\n",
    "# # deceased (norm)\n",
    "# np.array([16.0999999, 1.67365310]) /1000000\n",
    "# np.array([6.94999864, 1.27959154]) /100000\n",
    "# np.array([3.08999842, 0.87240868]) /10000\n",
    "# np.array([8.44000088, 2.22481098]) /10000\n",
    "# np.array([1.61006021, 0.43275679]) /1000\n",
    "# np.array([5.95000235, 1.28064016]) /1000\n",
    "# np.array([9.64999838, 2.09200771]) /500\n",
    "# np.array([4.28000624, 0.93405922]) /100\n",
    "# np.array([7.80032793, 2.13982958]) /100\n",
    "# # severe (norm)\n",
    "# np.array([16.09999999, 1.67365310]) /1000000\n",
    "# np.array([4.079997660, 0.84185997]) /10000\n",
    "# np.array([10.39999943, 2.13262174]) /1000\n",
    "# np.array([3.429999990, 0.21143857]) /100\n",
    "# np.array([4.250001620, 0.87760372]) /100\n",
    "# np.array([8.160003800, 1.68370209]) /100\n",
    "# np.array([11.79999819, 2.44263192]) /100\n",
    "# np.array([16.59999901, 3.43586235]) /100\n",
    "# np.array([18.40000124, 3.77561592]) /100"
   ],
   "metadata": {
    "collapsed": false,
    "pycharm": {
     "name": "#%%\n",
     "is_executing": false
    }
   }
  }
 ],
 "metadata": {
  "kernelspec": {
   "name": "pycharm-2f58c747",
   "language": "python",
   "display_name": "PyCharm (korona)"
  },
  "language_info": {
   "codemirror_mode": {
    "name": "ipython",
    "version": 2
   },
   "file_extension": ".py",
   "mimetype": "text/x-python",
   "name": "python",
   "nbconvert_exporter": "python",
   "pygments_lexer": "ipython2",
   "version": "2.7.6"
  },
  "pycharm": {
   "stem_cell": {
    "cell_type": "raw",
    "source": [],
    "metadata": {
     "collapsed": false
    }
   }
  }
 },
 "nbformat": 4,
 "nbformat_minor": 0
}